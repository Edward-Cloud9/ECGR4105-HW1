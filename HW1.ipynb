{
 "cells": [
  {
   "cell_type": "code",
   "execution_count": 376,
   "id": "172d07a4-c8a9-450f-badf-5c0568631112",
   "metadata": {},
   "outputs": [],
   "source": [
    "\"\"\"\n",
    "Edward Pascual-Bautista\n",
    "ECGR 4105 HW1\n",
    "\"\"\"\n",
    "\n",
    "import numpy as np\n",
    "import matplotlib.pyplot as plt\n",
    "import pandas as pd\n",
    "from sklearn.model_selection import train_test_split"
   ]
  },
  {
   "cell_type": "code",
   "execution_count": 377,
   "id": "20de9d8b-b82b-4d7c-9886-ef9932bc1e33",
   "metadata": {},
   "outputs": [
    {
     "data": {
      "text/html": [
       "<div>\n",
       "<style scoped>\n",
       "    .dataframe tbody tr th:only-of-type {\n",
       "        vertical-align: middle;\n",
       "    }\n",
       "\n",
       "    .dataframe tbody tr th {\n",
       "        vertical-align: top;\n",
       "    }\n",
       "\n",
       "    .dataframe thead th {\n",
       "        text-align: right;\n",
       "    }\n",
       "</style>\n",
       "<table border=\"1\" class=\"dataframe\">\n",
       "  <thead>\n",
       "    <tr style=\"text-align: right;\">\n",
       "      <th></th>\n",
       "      <th>price</th>\n",
       "      <th>area</th>\n",
       "      <th>bedrooms</th>\n",
       "      <th>bathrooms</th>\n",
       "      <th>stories</th>\n",
       "      <th>mainroad</th>\n",
       "      <th>guestroom</th>\n",
       "      <th>basement</th>\n",
       "      <th>hotwaterheating</th>\n",
       "      <th>airconditioning</th>\n",
       "      <th>parking</th>\n",
       "      <th>prefarea</th>\n",
       "      <th>furnishingstatus</th>\n",
       "    </tr>\n",
       "  </thead>\n",
       "  <tbody>\n",
       "    <tr>\n",
       "      <th>0</th>\n",
       "      <td>13300000</td>\n",
       "      <td>7420</td>\n",
       "      <td>4</td>\n",
       "      <td>2</td>\n",
       "      <td>3</td>\n",
       "      <td>yes</td>\n",
       "      <td>no</td>\n",
       "      <td>no</td>\n",
       "      <td>no</td>\n",
       "      <td>yes</td>\n",
       "      <td>2</td>\n",
       "      <td>yes</td>\n",
       "      <td>furnished</td>\n",
       "    </tr>\n",
       "    <tr>\n",
       "      <th>1</th>\n",
       "      <td>12250000</td>\n",
       "      <td>8960</td>\n",
       "      <td>4</td>\n",
       "      <td>4</td>\n",
       "      <td>4</td>\n",
       "      <td>yes</td>\n",
       "      <td>no</td>\n",
       "      <td>no</td>\n",
       "      <td>no</td>\n",
       "      <td>yes</td>\n",
       "      <td>3</td>\n",
       "      <td>no</td>\n",
       "      <td>furnished</td>\n",
       "    </tr>\n",
       "    <tr>\n",
       "      <th>2</th>\n",
       "      <td>12250000</td>\n",
       "      <td>9960</td>\n",
       "      <td>3</td>\n",
       "      <td>2</td>\n",
       "      <td>2</td>\n",
       "      <td>yes</td>\n",
       "      <td>no</td>\n",
       "      <td>yes</td>\n",
       "      <td>no</td>\n",
       "      <td>no</td>\n",
       "      <td>2</td>\n",
       "      <td>yes</td>\n",
       "      <td>semi-furnished</td>\n",
       "    </tr>\n",
       "    <tr>\n",
       "      <th>3</th>\n",
       "      <td>12215000</td>\n",
       "      <td>7500</td>\n",
       "      <td>4</td>\n",
       "      <td>2</td>\n",
       "      <td>2</td>\n",
       "      <td>yes</td>\n",
       "      <td>no</td>\n",
       "      <td>yes</td>\n",
       "      <td>no</td>\n",
       "      <td>yes</td>\n",
       "      <td>3</td>\n",
       "      <td>yes</td>\n",
       "      <td>furnished</td>\n",
       "    </tr>\n",
       "    <tr>\n",
       "      <th>4</th>\n",
       "      <td>11410000</td>\n",
       "      <td>7420</td>\n",
       "      <td>4</td>\n",
       "      <td>1</td>\n",
       "      <td>2</td>\n",
       "      <td>yes</td>\n",
       "      <td>yes</td>\n",
       "      <td>yes</td>\n",
       "      <td>no</td>\n",
       "      <td>yes</td>\n",
       "      <td>2</td>\n",
       "      <td>no</td>\n",
       "      <td>furnished</td>\n",
       "    </tr>\n",
       "  </tbody>\n",
       "</table>\n",
       "</div>"
      ],
      "text/plain": [
       "      price  area  bedrooms  bathrooms  stories mainroad guestroom basement  \\\n",
       "0  13300000  7420         4          2        3      yes        no       no   \n",
       "1  12250000  8960         4          4        4      yes        no       no   \n",
       "2  12250000  9960         3          2        2      yes        no      yes   \n",
       "3  12215000  7500         4          2        2      yes        no      yes   \n",
       "4  11410000  7420         4          1        2      yes       yes      yes   \n",
       "\n",
       "  hotwaterheating airconditioning  parking prefarea furnishingstatus  \n",
       "0              no             yes        2      yes        furnished  \n",
       "1              no             yes        3       no        furnished  \n",
       "2              no              no        2      yes   semi-furnished  \n",
       "3              no             yes        3      yes        furnished  \n",
       "4              no             yes        2       no        furnished  "
      ]
     },
     "execution_count": 377,
     "metadata": {},
     "output_type": "execute_result"
    }
   ],
   "source": [
    "housing = pd.DataFrame(pd.read_csv(\"Housing.csv\"))\n",
    "housing.head()"
   ]
  },
  {
   "cell_type": "code",
   "execution_count": 378,
   "id": "076111ba-fccb-433b-a962-37ad058a0c5d",
   "metadata": {},
   "outputs": [
    {
     "data": {
      "text/plain": [
       "545"
      ]
     },
     "execution_count": 378,
     "metadata": {},
     "output_type": "execute_result"
    }
   ],
   "source": [
    "m = len(housing)\n",
    "m"
   ]
  },
  {
   "cell_type": "code",
   "execution_count": 379,
   "id": "8242e2dc-a9f6-43c3-bd5f-3e2d7cfa8bec",
   "metadata": {},
   "outputs": [
    {
     "data": {
      "text/plain": [
       "(545, 13)"
      ]
     },
     "execution_count": 379,
     "metadata": {},
     "output_type": "execute_result"
    }
   ],
   "source": [
    "housing.shape"
   ]
  },
  {
   "cell_type": "code",
   "execution_count": 380,
   "id": "7ba367cb-ae4b-4421-81d9-a2bfab596e4f",
   "metadata": {},
   "outputs": [
    {
     "data": {
      "text/plain": [
       "(436, 13)"
      ]
     },
     "execution_count": 380,
     "metadata": {},
     "output_type": "execute_result"
    }
   ],
   "source": [
    "np.random.seed(0)\n",
    "\n",
    "df_Train, df_Test = train_test_split(housing, train_size = 0.8, test_size = 0.2)\n",
    "\n",
    "df_Train.shape"
   ]
  },
  {
   "cell_type": "code",
   "execution_count": 381,
   "id": "ff21038a-8d59-4e60-ada9-69ab4372d9c2",
   "metadata": {},
   "outputs": [
    {
     "data": {
      "text/plain": [
       "(109, 13)"
      ]
     },
     "execution_count": 381,
     "metadata": {},
     "output_type": "execute_result"
    }
   ],
   "source": [
    "df_test.shape"
   ]
  },
  {
   "cell_type": "code",
   "execution_count": 382,
   "id": "3ba65c7a-7385-4f4b-8ae1-2ad67f4cd119",
   "metadata": {},
   "outputs": [
    {
     "data": {
      "text/plain": [
       "436"
      ]
     },
     "execution_count": 382,
     "metadata": {},
     "output_type": "execute_result"
    }
   ],
   "source": [
    "m1 = len(df_Train)\n",
    "m1"
   ]
  },
  {
   "cell_type": "code",
   "execution_count": 383,
   "id": "307fe813-1e56-4f24-915c-017e8f6713e5",
   "metadata": {},
   "outputs": [
    {
     "data": {
      "text/plain": [
       "109"
      ]
     },
     "execution_count": 383,
     "metadata": {},
     "output_type": "execute_result"
    }
   ],
   "source": [
    "m2 = len(df_Test)\n",
    "m2"
   ]
  },
  {
   "cell_type": "code",
   "execution_count": 384,
   "id": "1ff58bd3-c16c-43e0-a3ac-95167e06d574",
   "metadata": {},
   "outputs": [
    {
     "data": {
      "text/html": [
       "<div>\n",
       "<style scoped>\n",
       "    .dataframe tbody tr th:only-of-type {\n",
       "        vertical-align: middle;\n",
       "    }\n",
       "\n",
       "    .dataframe tbody tr th {\n",
       "        vertical-align: top;\n",
       "    }\n",
       "\n",
       "    .dataframe thead th {\n",
       "        text-align: right;\n",
       "    }\n",
       "</style>\n",
       "<table border=\"1\" class=\"dataframe\">\n",
       "  <thead>\n",
       "    <tr style=\"text-align: right;\">\n",
       "      <th></th>\n",
       "      <th>price</th>\n",
       "    </tr>\n",
       "  </thead>\n",
       "  <tbody>\n",
       "    <tr>\n",
       "      <th>542</th>\n",
       "      <td>1750000</td>\n",
       "    </tr>\n",
       "    <tr>\n",
       "      <th>496</th>\n",
       "      <td>2695000</td>\n",
       "    </tr>\n",
       "    <tr>\n",
       "      <th>484</th>\n",
       "      <td>2870000</td>\n",
       "    </tr>\n",
       "    <tr>\n",
       "      <th>507</th>\n",
       "      <td>2590000</td>\n",
       "    </tr>\n",
       "    <tr>\n",
       "      <th>252</th>\n",
       "      <td>4515000</td>\n",
       "    </tr>\n",
       "  </tbody>\n",
       "</table>\n",
       "</div>"
      ],
      "text/plain": [
       "       price\n",
       "542  1750000\n",
       "496  2695000\n",
       "484  2870000\n",
       "507  2590000\n",
       "252  4515000"
      ]
     },
     "execution_count": 384,
     "metadata": {},
     "output_type": "execute_result"
    }
   ],
   "source": [
    "x_Train = df_Train[['area','bedrooms','bathrooms','stories','parking']]\n",
    "x_Test = df_Test[['area','bedrooms','bathrooms','stories','parking']]\n",
    "\n",
    "y_Train = df_Train[['price']]\n",
    "y_Test = df_Test[['price']]\n",
    "\n",
    "y_Train[:5]"
   ]
  },
  {
   "cell_type": "code",
   "execution_count": 385,
   "id": "c09b1423-fe2a-4e8e-af40-36117021d3ab",
   "metadata": {},
   "outputs": [
    {
     "data": {
      "text/plain": [
       "array([[1.],\n",
       "       [1.],\n",
       "       [1.]])"
      ]
     },
     "execution_count": 385,
     "metadata": {},
     "output_type": "execute_result"
    }
   ],
   "source": [
    "x0 = np.ones((m1,1))\n",
    "x_0 = np.ones((m2,1))\n",
    "x0[:3]"
   ]
  },
  {
   "cell_type": "code",
   "execution_count": 386,
   "id": "ffc08182-5dea-4c7b-80cc-74fb6573b980",
   "metadata": {},
   "outputs": [],
   "source": [
    "xTr = x_Train.values\n",
    "xTe = x_Test.values"
   ]
  },
  {
   "cell_type": "code",
   "execution_count": 387,
   "id": "44001f03-0fc4-49e6-8cb7-4731f071f430",
   "metadata": {},
   "outputs": [
    {
     "data": {
      "text/plain": [
       "array([[1.00e+00, 3.62e+03, 2.00e+00, 1.00e+00, 1.00e+00, 0.00e+00],\n",
       "       [1.00e+00, 4.00e+03, 2.00e+00, 1.00e+00, 1.00e+00, 0.00e+00],\n",
       "       [1.00e+00, 3.04e+03, 2.00e+00, 1.00e+00, 1.00e+00, 0.00e+00],\n",
       "       [1.00e+00, 3.60e+03, 2.00e+00, 1.00e+00, 1.00e+00, 0.00e+00]])"
      ]
     },
     "execution_count": 387,
     "metadata": {},
     "output_type": "execute_result"
    }
   ],
   "source": [
    "x1 = np.hstack((x0,xTr))\n",
    "x2 = np.hstack((x_0,xTe))\n",
    "x1[:4]\n"
   ]
  },
  {
   "cell_type": "code",
   "execution_count": 388,
   "id": "3dd73e1b-6bb8-4c4f-85d7-b6ece377ecd4",
   "metadata": {},
   "outputs": [
    {
     "data": {
      "text/plain": [
       "(436, 1)"
      ]
     },
     "execution_count": 388,
     "metadata": {},
     "output_type": "execute_result"
    }
   ],
   "source": [
    "yTr = y_Train.values\n",
    "yTe = y_Test.values\n",
    "yTr.shape"
   ]
  },
  {
   "cell_type": "code",
   "execution_count": 389,
   "id": "1050af1b-3f42-4cc0-9ade-d37bddac028a",
   "metadata": {},
   "outputs": [
    {
     "data": {
      "text/plain": [
       "array([0., 0., 0., 0., 0., 0.])"
      ]
     },
     "execution_count": 389,
     "metadata": {},
     "output_type": "execute_result"
    }
   ],
   "source": [
    "theta = np.zeros(6)\n",
    "\n",
    "theta"
   ]
  },
  {
   "cell_type": "code",
   "execution_count": 390,
   "id": "ed2b3b40-def2-4a70-8cc8-2455995bfb33",
   "metadata": {},
   "outputs": [],
   "source": [
    "def get_cost(x1, yTr, theta):\n",
    "    H = x1.dot(theta)\n",
    "    error = np.subtract(H, yTr)\n",
    "    sqrError = np.square(error)\n",
    "    J = 1 / (2*m) * np.sum(sqrError)\n",
    "    \n",
    "    return J"
   ]
  },
  {
   "cell_type": "code",
   "execution_count": 391,
   "id": "b54c8bcc-728d-4888-8428-03c1369c82ad",
   "metadata": {},
   "outputs": [],
   "source": [
    "def grad_descent(x1, yTr, theta, alpha, iterations, x2, yTe):\n",
    "    \n",
    "    cost_history = np.zeros(iterations)\n",
    "    vali_cost_history = np.zeros(iterations)\n",
    "    \n",
    "    for i in range(iterations):\n",
    "        H = x1.dot(theta)\n",
    "        error = np.subtract(H, yTr)\n",
    "        delta_sum = (alpha / m) * x1.transpose().dot(error);\n",
    "        theta = theta - delta_sum\n",
    "        cost_history[i] = get_cost(x1, yTr, theta)\n",
    "        vali_cost_history[i] = get_cost(x2, yTe, theta)\n",
    "        \n",
    "        return theta, cost_history, vali_cost_history"
   ]
  },
  {
   "cell_type": "code",
   "execution_count": 395,
   "id": "430afc30-1abe-4164-af02-724e4c3bd74d",
   "metadata": {},
   "outputs": [],
   "source": [
    "theta = np.zeros(6)\n",
    "theta = theta.reshape(6,1)\n",
    "iterations = 25;\n",
    "alpha = 0.01;"
   ]
  },
  {
   "cell_type": "code",
   "execution_count": 396,
   "id": "ff42283b-031d-4304-a6c2-6f164b07932b",
   "metadata": {},
   "outputs": [
    {
     "name": "stdout",
     "output_type": "stream",
     "text": [
      "[[3.82210815e+04]\n",
      " [2.14260071e+08]\n",
      " [1.17564070e+05]\n",
      " [5.26780620e+04]\n",
      " [7.48306653e+04]\n",
      " [3.23576400e+04]]\n",
      "[5.71174101e+23 0.00000000e+00 0.00000000e+00 0.00000000e+00\n",
      " 0.00000000e+00 0.00000000e+00 0.00000000e+00 0.00000000e+00\n",
      " 0.00000000e+00 0.00000000e+00 0.00000000e+00 0.00000000e+00\n",
      " 0.00000000e+00 0.00000000e+00 0.00000000e+00 0.00000000e+00\n",
      " 0.00000000e+00 0.00000000e+00 0.00000000e+00 0.00000000e+00\n",
      " 0.00000000e+00 0.00000000e+00 0.00000000e+00 0.00000000e+00\n",
      " 0.00000000e+00]\n",
      "[1.45640384e+23 0.00000000e+00 0.00000000e+00 0.00000000e+00\n",
      " 0.00000000e+00 0.00000000e+00 0.00000000e+00 0.00000000e+00\n",
      " 0.00000000e+00 0.00000000e+00 0.00000000e+00 0.00000000e+00\n",
      " 0.00000000e+00 0.00000000e+00 0.00000000e+00 0.00000000e+00\n",
      " 0.00000000e+00 0.00000000e+00 0.00000000e+00 0.00000000e+00\n",
      " 0.00000000e+00 0.00000000e+00 0.00000000e+00 0.00000000e+00\n",
      " 0.00000000e+00]\n"
     ]
    }
   ],
   "source": [
    "theta, cost_history, vali_cost_history = grad_descent(x1, yTr, theta, alpha, iterations, x2, yTe)\n",
    "\n",
    "print(theta)\n",
    "print(cost_history)\n",
    "print(vali_cost_history)"
   ]
  },
  {
   "cell_type": "code",
   "execution_count": 397,
   "id": "d15e496c-7cc4-497e-85cd-46759883f790",
   "metadata": {},
   "outputs": [
    {
     "data": {
      "image/png": "[encoded data removed]",
      "text/plain": [
       "<Figure size 720x432 with 1 Axes>"
      ]
     },
     "metadata": {
      "needs_background": "light"
     },
     "output_type": "display_data"
    }
   ],
   "source": [
    "plt.plot(range(1, iterations + 1), cost_history, color = 'red')\n",
    "plt.plot(range(1, iterations + 1), vali_cost_history, color = 'blue')\n",
    "\n",
    "plt.rcParams[\"figure.figsize\"] = (10,6)\n",
    "plt.grid()\n",
    "plt.xlabel('Iterations')\n",
    "plt.ylabel('Cost')\n",
    "plt.show()\n"
   ]
  },
  {
   "cell_type": "code",
   "execution_count": null,
   "id": "23ffe598-5b0c-4137-a40b-4bbba76b61d2",
   "metadata": {},
   "outputs": [],
   "source": []
  },
  {
   "cell_type": "code",
   "execution_count": null,
   "id": "a9588893-b0bd-485b-90e8-4e1452e32b86",
   "metadata": {},
   "outputs": [],
   "source": []
  },
  {
   "cell_type": "code",
   "execution_count": 373,
   "id": "502f9477-4d63-490f-a4a8-6aab9b44de4e",
   "metadata": {},
   "outputs": [],
   "source": [
    "df_train_b, df_test_b = train_test_split(housing, train_size = 0.7, test_size = 0.3)"
   ]
  },
  {
   "cell_type": "code",
   "execution_count": 374,
   "id": "36cd1343-898a-4b51-bd78-2211e8d112c9",
   "metadata": {},
   "outputs": [
    {
     "data": {
      "text/html": [
       "<div>\n",
       "<style scoped>\n",
       "    .dataframe tbody tr th:only-of-type {\n",
       "        vertical-align: middle;\n",
       "    }\n",
       "\n",
       "    .dataframe tbody tr th {\n",
       "        vertical-align: top;\n",
       "    }\n",
       "\n",
       "    .dataframe thead th {\n",
       "        text-align: right;\n",
       "    }\n",
       "</style>\n",
       "<table border=\"1\" class=\"dataframe\">\n",
       "  <thead>\n",
       "    <tr style=\"text-align: right;\">\n",
       "      <th></th>\n",
       "      <th>area</th>\n",
       "      <th>bedrooms</th>\n",
       "      <th>bathrooms</th>\n",
       "      <th>stories</th>\n",
       "      <th>mainroad</th>\n",
       "      <th>guestroom</th>\n",
       "      <th>basement</th>\n",
       "      <th>hotwaterheating</th>\n",
       "      <th>airconditioning</th>\n",
       "      <th>parking</th>\n",
       "      <th>prefarea</th>\n",
       "    </tr>\n",
       "  </thead>\n",
       "  <tbody>\n",
       "    <tr>\n",
       "      <th>223</th>\n",
       "      <td>6321</td>\n",
       "      <td>3</td>\n",
       "      <td>1</td>\n",
       "      <td>2</td>\n",
       "      <td>yes</td>\n",
       "      <td>no</td>\n",
       "      <td>yes</td>\n",
       "      <td>no</td>\n",
       "      <td>yes</td>\n",
       "      <td>1</td>\n",
       "      <td>no</td>\n",
       "    </tr>\n",
       "    <tr>\n",
       "      <th>117</th>\n",
       "      <td>3700</td>\n",
       "      <td>4</td>\n",
       "      <td>1</td>\n",
       "      <td>2</td>\n",
       "      <td>yes</td>\n",
       "      <td>yes</td>\n",
       "      <td>no</td>\n",
       "      <td>no</td>\n",
       "      <td>yes</td>\n",
       "      <td>0</td>\n",
       "      <td>no</td>\n",
       "    </tr>\n",
       "    <tr>\n",
       "      <th>176</th>\n",
       "      <td>8520</td>\n",
       "      <td>3</td>\n",
       "      <td>1</td>\n",
       "      <td>1</td>\n",
       "      <td>yes</td>\n",
       "      <td>no</td>\n",
       "      <td>no</td>\n",
       "      <td>no</td>\n",
       "      <td>yes</td>\n",
       "      <td>2</td>\n",
       "      <td>no</td>\n",
       "    </tr>\n",
       "    <tr>\n",
       "      <th>166</th>\n",
       "      <td>7800</td>\n",
       "      <td>3</td>\n",
       "      <td>1</td>\n",
       "      <td>1</td>\n",
       "      <td>yes</td>\n",
       "      <td>no</td>\n",
       "      <td>yes</td>\n",
       "      <td>no</td>\n",
       "      <td>yes</td>\n",
       "      <td>2</td>\n",
       "      <td>yes</td>\n",
       "    </tr>\n",
       "  </tbody>\n",
       "</table>\n",
       "</div>"
      ],
      "text/plain": [
       "     area  bedrooms  bathrooms  stories mainroad guestroom basement  \\\n",
       "223  6321         3          1        2      yes        no      yes   \n",
       "117  3700         4          1        2      yes       yes       no   \n",
       "176  8520         3          1        1      yes        no       no   \n",
       "166  7800         3          1        1      yes        no      yes   \n",
       "\n",
       "    hotwaterheating airconditioning  parking prefarea  \n",
       "223              no             yes        1       no  \n",
       "117              no             yes        0       no  \n",
       "176              no             yes        2       no  \n",
       "166              no             yes        2      yes  "
      ]
     },
     "execution_count": 374,
     "metadata": {},
     "output_type": "execute_result"
    }
   ],
   "source": [
    "x_Train_b = df_train_b[['area','bedrooms','bathrooms','stories','mainroad','guestroom','basement','hotwaterheating','airconditioning','parking','prefarea']]\n",
    "x_Test_b = df_test_b[['area','bedrooms','bathrooms','stories','mainroad','guestroom','basement','hotwaterheating','airconditioning','parking','prefarea']]\n",
    "\n",
    "y_Train_b = df_train_b[['price']].values\n",
    "y_Test_b = df_test_b[['price']].values\n",
    "\n",
    "x_Train_b[:4]"
   ]
  },
  {
   "cell_type": "code",
   "execution_count": 375,
   "id": "9e191754-3611-465d-b64c-7e4e41526088",
   "metadata": {},
   "outputs": [
    {
     "data": {
      "text/plain": [
       "(381, 11)"
      ]
     },
     "execution_count": 375,
     "metadata": {},
     "output_type": "execute_result"
    }
   ],
   "source": [
    "x_Train_b.shape"
   ]
  },
  {
   "cell_type": "code",
   "execution_count": null,
   "id": "8a0e262d-82a4-440a-8672-4b88e77917fa",
   "metadata": {},
   "outputs": [],
   "source": []
  },
  {
   "cell_type": "code",
   "execution_count": 320,
   "id": "4387863f-dd1e-49d2-8259-e09e407abdd8",
   "metadata": {},
   "outputs": [
    {
     "data": {
      "text/plain": [
       "381"
      ]
     },
     "execution_count": 320,
     "metadata": {},
     "output_type": "execute_result"
    }
   ],
   "source": [
    "m3 = len(y_Train_b)\n",
    "m4 = len(y_Test_b)\n"
   ]
  },
  {
   "cell_type": "code",
   "execution_count": 328,
   "id": "42287fe7-1264-481f-8f9a-3ecceba32c44",
   "metadata": {},
   "outputs": [],
   "source": [
    "x0_b = np.ones((m3,1))\n",
    "x_0_b = np.ones((m4,1))\n",
    "\n",
    "x1_b = np.hstack((x0_b, x_Train_b))\n",
    "x2_b = np.hstack((x_0_b, x_Test_b))\n"
   ]
  },
  {
   "cell_type": "code",
   "execution_count": 323,
   "id": "9b787f3c-95a3-4d26-b1cf-d511e08bc3f1",
   "metadata": {},
   "outputs": [
    {
     "data": {
      "text/plain": [
       "(12, 1)"
      ]
     },
     "execution_count": 323,
     "metadata": {},
     "output_type": "execute_result"
    }
   ],
   "source": [
    "theta_b = np.zeros(12)\n",
    "theta_b = theta_b.reshape(12,1)\n",
    "theta_b.shape"
   ]
  },
  {
   "cell_type": "code",
   "execution_count": 325,
   "id": "69ef1503-fac0-4239-8fdb-e16693203b44",
   "metadata": {},
   "outputs": [],
   "source": [
    "def get_cost(x1_b, y_Train_b, theta_b):\n",
    "    H = x1_b.dot(theta_b)\n",
    "    error = np.subtract(H, y_Train_b)\n",
    "    sqrError = np.square(error)\n",
    "    J = 1 / (2*m) * np.sum(sqrError)\n",
    "    \n",
    "    return J"
   ]
  },
  {
   "cell_type": "code",
   "execution_count": 329,
   "id": "101a1dd6-f482-42ff-885c-f3ac33e330c9",
   "metadata": {},
   "outputs": [],
   "source": [
    "def grad_descent(x1_b, y_Train_b, theta_b, alpha, iterations, x2_b, y_Test_b):\n",
    "    \n",
    "    cost_history_b = np.zeros(iterations)\n",
    "    vali_cost_history_b = np.zeros(iterations)\n",
    "    \n",
    "    for i in range(iterations):\n",
    "        H = x1_b.dot(theta_b)\n",
    "        error = np.subtract(H, y_Train_b)\n",
    "        delta_sum = (alpha / m) * x1_b.transpose().dot(error);\n",
    "        theta_b = theta_b - delta_sum\n",
    "        cost_history_b[i] = get_cost(x1_b, y_Train_b, theta_b)\n",
    "        vali_cost_history_b[i] = get_cost(x2_b, y_Test_b, theta_b)\n",
    "        \n",
    "        return theta_b, cost_history_b, vali_cost_history_b"
   ]
  },
  {
   "cell_type": "code",
   "execution_count": 301,
   "id": "2e5666b0-0291-4556-a60c-a5becddb61ad",
   "metadata": {},
   "outputs": [],
   "source": [
    "theta = np.zeros(6)\n",
    "theta = theta.reshape(6,1)\n",
    "iterations = 25;\n",
    "alpha = 0.00001;"
   ]
  },
  {
   "cell_type": "code",
   "execution_count": 330,
   "id": "0aea3a5c-5b68-4071-81e8-700da19844ba",
   "metadata": {},
   "outputs": [
    {
     "name": "stdout",
     "output_type": "stream",
     "text": [
      "[[nan]\n",
      " [nan]\n",
      " [nan]\n",
      " [nan]\n",
      " [nan]\n",
      " [nan]\n",
      " [nan]\n",
      " [nan]\n",
      " [nan]\n",
      " [nan]\n",
      " [nan]\n",
      " [nan]]\n",
      "[nan  0.  0.  0.  0.  0.  0.  0.  0.  0.  0.  0.  0.  0.  0.  0.  0.  0.\n",
      "  0.  0.  0.  0.  0.  0.  0.]\n",
      "[nan  0.  0.  0.  0.  0.  0.  0.  0.  0.  0.  0.  0.  0.  0.  0.  0.  0.\n",
      "  0.  0.  0.  0.  0.  0.  0.]\n"
     ]
    }
   ],
   "source": [
    "theta_b, cost_history_b, vali_cost_history_b = grad_descent(x1_b, y_Train_b, theta_b, alpha, iterations, x2_b, y_Test_b)\n",
    "\n",
    "print(theta_b)\n",
    "print(cost_history_b)\n",
    "print(vali_cost_history_b)"
   ]
  },
  {
   "cell_type": "code",
   "execution_count": null,
   "id": "764ac27b-7a36-47d0-8479-4c1c7cf9f401",
   "metadata": {},
   "outputs": [],
   "source": []
  }
 ],
 "metadata": {
  "kernelspec": {
   "display_name": "Python 3 (ipykernel)",
   "language": "python",
   "name": "python3"
  },
  "language_info": {
   "codemirror_mode": {
    "name": "ipython",
    "version": 3
   },
   "file_extension": ".py",
   "mimetype": "text/x-python",
   "name": "python",
   "nbconvert_exporter": "python",
   "pygments_lexer": "ipython3",
   "version": "3.9.12"
  }
 },
 "nbformat": 4,
 "nbformat_minor": 5
}
